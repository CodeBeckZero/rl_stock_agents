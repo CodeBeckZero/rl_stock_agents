{
 "cells": [
  {
   "cell_type": "code",
   "execution_count": 2,
   "metadata": {},
   "outputs": [
    {
     "name": "stdout",
     "output_type": "stream",
     "text": [
      "[[2. 2. 3. 1. 2. 2. 1. 1. 1. 3.]\n",
      " [1. 1. 1. 3. 2. 1. 2. 3. 3. 1.]\n",
      " [3. 3. 2. 2. 2. 3. 3. 2. 2. 2.]]\n",
      "f-score: 1.227\n",
      "f-critical: 3.555\n",
      "Significant: False\n"
     ]
    },
    {
     "data": {
      "text/plain": [
       "[(('NB', 'SVM'), 0.0, 1.0478214542564015, False),\n",
       " (('NB', 'AB'), 0.5999999999999999, 1.0478214542564015, False),\n",
       " (('SVM', 'AB'), 0.5999999999999999, 1.0478214542564015, False)]"
      ]
     },
     "metadata": {},
     "output_type": "display_data"
    }
   ],
   "source": [
    "import sys\n",
    "pwd = \"P:/dsv/DAMII/Practical Project/rl_stock_agents\"\n",
    "sys.path.append(pwd)\n",
    "\n",
    "import prob_evaluate\n",
    "import pandas as pd\n",
    "\n",
    "score_array = [[96.43, 99.44, 83.63],\n",
    "               [73.42, 81.34, 46.46],\n",
    "               [72.30, 91.51, 72.31],\n",
    "               [71.70, 66.16, 70.28],\n",
    "               [71.67, 71.67, 71.67],\n",
    "               [74.36, 77.08, 74.35],\n",
    "               [70.63, 62.21, 44.91],\n",
    "               [83.22, 80.63, 82.51],\n",
    "               [98.22, 93.18, 93.21],\n",
    "               [69.92, 99.90, 72.54]]\n",
    "\n",
    "\n",
    "score_array_columns = ['NB', 'SVM', 'AB']\n",
    "score_array_dataset_name = ['A','B','C','D','E','F','G','H','I','J']\n",
    "df = pd.DataFrame(score_array, columns=score_array_columns)\n",
    "df['dataset'] = score_array_dataset_name\n",
    "df = df[['dataset','NB','SVM','AB']]\n",
    "\n",
    "columns_for_rank = ['NB','SVM','AB']\n",
    "\n",
    "test = prob_evaluate.generate_rank_array_from_dataframe(df,columns_for_rank,equal_rank_behav=\"mean\")\n",
    "print(test)\n",
    "stat, critical_f_value, reject_null_hypo = prob_evaluate.iman_davenport_test(test,0.95)\n",
    "\n",
    "print(f'f-score: {stat:.3f}\\nf-critical: {critical_f_value:.3f}\\nSignificant: {reject_null_hypo}')\n",
    "\n",
    "results1 = prob_evaluate.nemenyi_test(test,0.95,columns_for_rank)\n",
    "display(results1)"
   ]
  }
 ],
 "metadata": {
  "kernelspec": {
   "display_name": "base",
   "language": "python",
   "name": "python3"
  },
  "language_info": {
   "codemirror_mode": {
    "name": "ipython",
    "version": 3
   },
   "file_extension": ".py",
   "mimetype": "text/x-python",
   "name": "python",
   "nbconvert_exporter": "python",
   "pygments_lexer": "ipython3",
   "version": "3.10.13"
  }
 },
 "nbformat": 4,
 "nbformat_minor": 2
}
